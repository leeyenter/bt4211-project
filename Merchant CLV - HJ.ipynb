{
 "cells": [
  {
   "cell_type": "code",
   "execution_count": 34,
   "metadata": {
    "ExecuteTime": {
     "end_time": "2019-04-23T02:53:10.182747Z",
     "start_time": "2019-04-23T02:53:10.128897Z"
    },
    "collapsed": true
   },
   "outputs": [],
   "source": [
    "import pandas as pd\n",
    "import numpy as np\n",
    "import seaborn as sns\n",
    "\n",
    "sns.set()\n",
    "%matplotlib inline"
   ]
  },
  {
   "cell_type": "markdown",
   "metadata": {},
   "source": [
    "# Seller profitability by order value"
   ]
  },
  {
   "cell_type": "code",
   "execution_count": 2,
   "metadata": {
    "ExecuteTime": {
     "end_time": "2019-04-22T15:25:51.394991Z",
     "start_time": "2019-04-22T15:25:47.997690Z"
    },
    "collapsed": true
   },
   "outputs": [],
   "source": [
    "sellers = pd.read_csv('./brazilian-ecommerce/olist_sellers_dataset.csv', index_col=0)\n",
    "order_items = pd.read_csv('./brazilian-ecommerce/olist_order_items_dataset.csv')\n",
    "orders = pd.read_csv('./brazilian-ecommerce/olist_orders_dataset.csv')"
   ]
  },
  {
   "cell_type": "code",
   "execution_count": 71,
   "metadata": {
    "ExecuteTime": {
     "end_time": "2019-04-22T02:07:33.753896Z",
     "start_time": "2019-04-22T02:07:33.574387Z"
    },
    "collapsed": false,
    "scrolled": true
   },
   "outputs": [
    {
     "data": {
      "image/png": "[encoded data removed]",
      "text/plain": [
       "<Figure size 432x288 with 1 Axes>"
      ]
     },
     "metadata": {},
     "output_type": "display_data"
    }
   ],
   "source": [
    "sellers.merge(order_items.groupby('seller_id')[['price', 'freight_value']].sum(),\n",
    "              'left', left_index=True, right_index=True)\\\n",
    "        .sort_values(by='price', ascending=False)\\\n",
    "        .loc[:,'price']\\\n",
    "        .apply(np.log)\\\n",
    "        .plot.hist(bins=20);"
   ]
  },
  {
   "cell_type": "markdown",
   "metadata": {},
   "source": [
    "Merchant revenue approx. follows a lognormal distribution"
   ]
  },
  {
   "cell_type": "markdown",
   "metadata": {},
   "source": [
    "# Seller popularity by order volume"
   ]
  },
  {
   "cell_type": "code",
   "execution_count": 26,
   "metadata": {
    "ExecuteTime": {
     "end_time": "2019-04-21T15:44:45.241837Z",
     "start_time": "2019-04-21T15:44:45.174055Z"
    },
    "collapsed": false,
    "scrolled": true
   },
   "outputs": [
    {
     "data": {
      "text/plain": [
       "6560211a19b47992c3666cc44a7e94c0    2033\n",
       "4a3ca9315b744ce9f8e9374361493884    1987\n",
       "1f50f920176fa81dab994f9023523100    1931\n",
       "cc419e0650a3c5ba77189a1882b7556a    1775\n",
       "da8622b14eb17ae2831f4ac5b9dab84a    1551\n",
       "955fee9216a65b617aa5c0531780ce60    1499\n",
       "1025f0e2d44d7041d6cf58b6550e0bfa    1428\n",
       "7c67e1448b00f6e969d365cea6b010ab    1364\n",
       "ea8482cd71df3c1969d7b9473ff13abc    1203\n",
       "7a67c85e85bb2ce8582c35f2203ad736    1171\n",
       "4869f7a5dfa277a7dca6462dcf3b52b2    1156\n",
       "3d871de0142ce09b7081e2b9d1733cb1    1147\n",
       "8b321bb669392f5163d04c59e235e066    1018\n",
       "cca3071e3e9bb7d12640c9fbe2301306     830\n",
       "620c87c171fb2a6dd6e8bb4dec959fc6     798\n",
       "a1043bafd471dff536d0c462352beb48     770\n",
       "e9779976487b77c6d4ac45f75ec7afe9     750\n",
       "f8db351d8c4c4c22c6835c19a46f01b0     724\n",
       "d2374cbcbb3ca4ab1086534108cc3ab7     631\n",
       "391fc6631aebcf3004804e51b40bcf1e     613\n",
       "fa1c13f2614d7b5c4749cbc52fecda94     586\n",
       "7d13fca15225358621be4086e1eb0964     578\n",
       "128639473a139ac0f3e5f5ade55873a5     560\n",
       "1835b56ce799e6a4dc4eddc053f04066     558\n",
       "46dc3b2cc0980fb8ec44634e21d2718e     542\n",
       "d91fb3b7d041e83b64a00a3edfb37e4f     536\n",
       "1900267e848ceeba8fa32d80c1a5f5a8     529\n",
       "53e4c6e0f4312d4d2107a8c9cddf45cd     522\n",
       "85d9eb9ddc5d00ca9336a2219c97bb13     522\n",
       "4e922959ae960d389249c378d1c939f5     454\n",
       "                                    ... \n",
       "e433f5fd4050e3352b5d83522b7fe24b       1\n",
       "5f57db27027655e6c6a391601daa0258       1\n",
       "13d95f0f6f73943d4ceffad0fc2cd32c       1\n",
       "cecd97bc34ed8330bd4cd15713eda670       1\n",
       "cf281cf8b7affbdfe751b29cc85580e1       1\n",
       "9fe7c6641c79970ab48185498f547c09       1\n",
       "f90f77ef2799a27f80d90c425ca944f7       1\n",
       "0f80a40c312b2472dca482cf50f5186f       1\n",
       "7d81e74a4755b552267cd5e081563028       1\n",
       "3a3c180dd702a725bd0ba4117689239e       1\n",
       "a45765f8afb1e594b22bf9e974b46765       1\n",
       "247587846358bb1d2e4c6522020b36fe       1\n",
       "9d69ba0a7a626a64dc5db08e529559cf       1\n",
       "344223b2a90784f64136a8a5da012e7f       1\n",
       "00d8b143d12632bad99c0ad66ad52825       1\n",
       "28872dc528e978a639754bc8c2ce5a4c       1\n",
       "f26d70155c2b6326fcfa1780c8c684e4       1\n",
       "c963a25b8671419c6ce9eebe8fd03218       1\n",
       "0bb27263628258b8111a0262769fa9db       1\n",
       "5dc4bdaf869e8c77c648078cbe8d59c2       1\n",
       "4aba6a02a788d3ec81c03137144d9a80       1\n",
       "3338e7a0710a195872be80e0d2423867       1\n",
       "62de60d81c55c29d76a6bce418b31cef       1\n",
       "1a8e2d9c38b84a9702ac7922924b0573       1\n",
       "d4d99b60c4c94cd35acd502cec65dc8d       1\n",
       "bac44fa8e13424950488659b5f765c41       1\n",
       "258447aad3f7b01e2643c89f64dc5647       1\n",
       "50bf89f1349bc0409a268c3a49678009       1\n",
       "9e94fa26a70ede4d26226e918e8706a2       1\n",
       "003554e2dce176b5555353e4f3555ac8       1\n",
       "Name: seller_id, Length: 3095, dtype: int64"
      ]
     },
     "execution_count": 26,
     "metadata": {},
     "output_type": "execute_result"
    }
   ],
   "source": [
    "order_items['seller_id'].value_counts()"
   ]
  },
  {
   "cell_type": "code",
   "execution_count": 24,
   "metadata": {
    "ExecuteTime": {
     "end_time": "2019-04-21T15:43:07.508168Z",
     "start_time": "2019-04-21T15:43:07.427782Z"
    },
    "collapsed": false
   },
   "outputs": [
    {
     "name": "stdout",
     "output_type": "stream",
     "text": [
      "<class 'pandas.core.frame.DataFrame'>\n",
      "RangeIndex: 112650 entries, 0 to 112649\n",
      "Data columns (total 7 columns):\n",
      "order_id               112650 non-null object\n",
      "order_item_id          112650 non-null int64\n",
      "product_id             112650 non-null object\n",
      "seller_id              112650 non-null object\n",
      "shipping_limit_date    112650 non-null object\n",
      "price                  112650 non-null float64\n",
      "freight_value          112650 non-null float64\n",
      "dtypes: float64(2), int64(1), object(4)\n",
      "memory usage: 6.0+ MB\n"
     ]
    }
   ],
   "source": [
    "order_items.info()"
   ]
  },
  {
   "cell_type": "markdown",
   "metadata": {},
   "source": [
    "# Map to Lat Long for Tableau"
   ]
  },
  {
   "cell_type": "code",
   "execution_count": 54,
   "metadata": {
    "ExecuteTime": {
     "end_time": "2019-04-21T16:04:09.872932Z",
     "start_time": "2019-04-21T16:04:08.924985Z"
    },
    "collapsed": true
   },
   "outputs": [],
   "source": [
    "geoloc = pd.read_csv('./brazilian-ecommerce/olist_geolocation_dataset.csv', usecols=[0,1,2])\n",
    "geoloc['geolocation_zip_code_prefix'] = geoloc['geolocation_zip_code_prefix'].astype(int)"
   ]
  },
  {
   "cell_type": "code",
   "execution_count": 66,
   "metadata": {
    "ExecuteTime": {
     "end_time": "2019-04-21T16:12:49.503970Z",
     "start_time": "2019-04-21T16:12:49.439037Z"
    },
    "collapsed": false
   },
   "outputs": [
    {
     "data": {
      "text/plain": [
       "geolocation_zip_code_prefix    13023.000000\n",
       "geolocation_lat                  -22.893848\n",
       "geolocation_lng                  -47.061337\n",
       "dtype: float64"
      ]
     },
     "execution_count": 66,
     "metadata": {},
     "output_type": "execute_result"
    }
   ],
   "source": [
    "geoloc[geoloc.geolocation_zip_code_prefix == 13023].mean()"
   ]
  },
  {
   "cell_type": "code",
   "execution_count": 46,
   "metadata": {
    "ExecuteTime": {
     "end_time": "2019-04-21T15:59:38.695243Z",
     "start_time": "2019-04-21T15:59:38.684952Z"
    },
    "collapsed": false
   },
   "outputs": [
    {
     "name": "stdout",
     "output_type": "stream",
     "text": [
      "<class 'pandas.core.frame.DataFrame'>\n",
      "Index: 3095 entries, 3442f8959a84dea7ee197c632cb2df15 to 9e25199f6ef7e7c347120ff175652c3b\n",
      "Data columns (total 6 columns):\n",
      "seller_zip_code_prefix    3095 non-null int64\n",
      "seller_city               3095 non-null object\n",
      "seller_state              3095 non-null object\n",
      "order_vol                 3095 non-null int64\n",
      "price                     3095 non-null float64\n",
      "freight_value             3095 non-null float64\n",
      "dtypes: float64(2), int64(2), object(2)\n",
      "memory usage: 249.3+ KB\n"
     ]
    }
   ],
   "source": [
    "sellers.info()"
   ]
  },
  {
   "cell_type": "code",
   "execution_count": 30,
   "metadata": {
    "ExecuteTime": {
     "end_time": "2019-04-21T15:53:49.609606Z",
     "start_time": "2019-04-21T15:53:49.535374Z"
    },
    "collapsed": true
   },
   "outputs": [],
   "source": [
    "sellers = sellers.set_index('seller_id')\n",
    "sellers['order_vol'] = order_items['seller_id'].value_counts()"
   ]
  },
  {
   "cell_type": "code",
   "execution_count": 41,
   "metadata": {
    "ExecuteTime": {
     "end_time": "2019-04-21T15:58:11.142531Z",
     "start_time": "2019-04-21T15:58:11.082635Z"
    },
    "collapsed": true
   },
   "outputs": [],
   "source": [
    "sellers = sellers.merge(order_items.groupby('seller_id')[['price', 'freight_value']].sum(),\n",
    "                        'left', left_index=True, right_index=True)"
   ]
  },
  {
   "cell_type": "code",
   "execution_count": 68,
   "metadata": {
    "ExecuteTime": {
     "end_time": "2019-04-21T16:14:38.098098Z",
     "start_time": "2019-04-21T16:14:37.861985Z"
    },
    "collapsed": false,
    "scrolled": true
   },
   "outputs": [],
   "source": [
    "pd.merge(sellers.reset_index(), geoloc.groupby('geolocation_zip_code_prefix').mean(),\n",
    "         how='left', left_on='seller_zip_code_prefix', right_index=True).to_csv('merchant_value_coords.csv')"
   ]
  },
  {
   "cell_type": "markdown",
   "metadata": {},
   "source": [
    "# TODO: build targeting models using features created from merchant behavior\n",
    "\n",
    "Dependent variables: \n",
    "* Churn\n",
    "  * Hazard model with age of merchant in months as hazard dependent variable\n",
    "  * Features to use are revenue, biz segment, lead_type, lead_behavior_profile, biz type, review rating, maybe city?\n",
    "* Value/Revenue\n",
    "  * Linear Regression, with log transform on mean monthly revenue\n",
    "  * Features to use are category, num_prods, price, payment terms, reviews, maybe city?"
   ]
  },
  {
   "cell_type": "markdown",
   "metadata": {},
   "source": [
    "## Churn"
   ]
  },
  {
   "cell_type": "code",
   "execution_count": 5,
   "metadata": {
    "ExecuteTime": {
     "end_time": "2019-04-23T02:37:54.125653Z",
     "start_time": "2019-04-23T02:37:52.354180Z"
    },
    "collapsed": true
   },
   "outputs": [],
   "source": [
    "sellers = pd.read_csv('./brazilian-ecommerce/olist_sellers_dataset.csv', index_col=0)\n",
    "order_items = pd.read_csv('./brazilian-ecommerce/olist_order_items_dataset.csv')\n",
    "orders = pd.read_csv('./brazilian-ecommerce/olist_orders_dataset.csv')\n",
    "prods = pd.read_csv('./brazilian-ecommerce/olist_products_dataset.csv')\n",
    "cats = pd.read_csv('./brazilian-ecommerce/product_category_name_translation.csv')\n",
    "reviews = pd.read_csv('./brazilian-ecommerce/olist_order_reviews_dataset.csv')\n",
    "payments = pd.read_csv('./brazilian-ecommerce/olist_order_payments_dataset.csv')"
   ]
  },
  {
   "cell_type": "code",
   "execution_count": 127,
   "metadata": {
    "ExecuteTime": {
     "end_time": "2019-04-22T17:47:45.577834Z",
     "start_time": "2019-04-22T17:47:45.270434Z"
    },
    "collapsed": false
   },
   "outputs": [],
   "source": [
    "order_items = order_items.merge(prods.merge(cats, how='left', on='product_category_name')\\\n",
    "                                     .loc[:,['product_id', 'product_category_name_english']],\n",
    "                                how='left', on='product_id')\\\n",
    "                         .merge(reviews[['order_id', 'review_score']], how='left', on='order_id')\\\n",
    "                         .merge(payments[['order_id', 'payment_type', 'payment_installments']],\n",
    "                                how='left', on='order_id')"
   ]
  },
  {
   "cell_type": "code",
   "execution_count": 128,
   "metadata": {
    "ExecuteTime": {
     "end_time": "2019-04-22T17:47:54.331887Z",
     "start_time": "2019-04-22T17:47:54.098508Z"
    },
    "collapsed": false,
    "scrolled": true
   },
   "outputs": [],
   "source": [
    "orders.order_purchase_timestamp = pd.to_datetime(orders.order_purchase_timestamp)\n",
    "order_items = order_items.merge(orders[['order_id', 'order_purchase_timestamp']], how='left', on='order_id')"
   ]
  },
  {
   "cell_type": "code",
   "execution_count": 131,
   "metadata": {
    "ExecuteTime": {
     "end_time": "2019-04-22T17:48:13.351785Z",
     "start_time": "2019-04-22T17:48:13.306908Z"
    },
    "collapsed": true
   },
   "outputs": [],
   "source": [
    "order_items.drop(columns=['order_id', 'order_item_id', 'product_id', 'shipping_limit_date'], inplace=True)"
   ]
  },
  {
   "cell_type": "code",
   "execution_count": 11,
   "metadata": {
    "ExecuteTime": {
     "end_time": "2019-04-22T16:44:24.688247Z",
     "start_time": "2019-04-22T16:44:23.413739Z"
    },
    "collapsed": false,
    "scrolled": true
   },
   "outputs": [],
   "source": [
    "# order_items.to_csv('merchant_churn.csv')"
   ]
  },
  {
   "cell_type": "code",
   "execution_count": 133,
   "metadata": {
    "ExecuteTime": {
     "end_time": "2019-04-22T17:48:48.446727Z",
     "start_time": "2019-04-22T17:48:48.397859Z"
    },
    "collapsed": false
   },
   "outputs": [
    {
     "data": {
      "text/plain": [
       "seller_id                           0\n",
       "price                               0\n",
       "freight_value                       0\n",
       "product_category_name_english    1734\n",
       "review_score                        0\n",
       "payment_type                        3\n",
       "payment_installments                3\n",
       "order_purchase_timestamp            0\n",
       "dtype: int64"
      ]
     },
     "execution_count": 133,
     "metadata": {},
     "output_type": "execute_result"
    }
   ],
   "source": [
    "order_items.isna().sum()"
   ]
  },
  {
   "cell_type": "code",
   "execution_count": 134,
   "metadata": {
    "ExecuteTime": {
     "end_time": "2019-04-22T17:49:58.900190Z",
     "start_time": "2019-04-22T17:49:58.884790Z"
    },
    "collapsed": true
   },
   "outputs": [],
   "source": [
    "order_items.product_category_name_english.fillna('NA_category', inplace=True)"
   ]
  },
  {
   "cell_type": "code",
   "execution_count": 135,
   "metadata": {
    "ExecuteTime": {
     "end_time": "2019-04-22T17:50:00.653246Z",
     "start_time": "2019-04-22T17:50:00.185507Z"
    },
    "collapsed": false,
    "scrolled": true
   },
   "outputs": [],
   "source": [
    "temp = order_items.groupby('seller_id').agg({'price': lambda x: np.mean(np.log(x)),\n",
    "                                             'freight_value': np.median,\n",
    "                                             'product_category_name_english': lambda x: list(set(x)),\n",
    "                                             'review_score': np.mean,\n",
    "                                             'payment_type': lambda x: list(set(x)),\n",
    "                                             'payment_installments': np.mean,\n",
    "                                             'order_purchase_timestamp': [np.max, np.min]})"
   ]
  },
  {
   "cell_type": "code",
   "execution_count": 136,
   "metadata": {
    "ExecuteTime": {
     "end_time": "2019-04-22T17:50:04.984527Z",
     "start_time": "2019-04-22T17:50:04.980539Z"
    },
    "collapsed": false
   },
   "outputs": [],
   "source": [
    "temp.columns = ['mean_log_price', 'mean_review_score', 'last_order_timestamp', 'first_order_timestamp',\n",
    "                'payment_type', 'product_category', 'mean_installments', 'median_freight']"
   ]
  },
  {
   "cell_type": "code",
   "execution_count": 138,
   "metadata": {
    "ExecuteTime": {
     "end_time": "2019-04-22T17:50:14.619942Z",
     "start_time": "2019-04-22T17:50:13.779983Z"
    },
    "collapsed": true
   },
   "outputs": [],
   "source": [
    "# convert to dummies\n",
    "payment_dummies = pd.get_dummies(temp.payment_type.apply(pd.Series).stack()).sum(level=0)\\\n",
    "                    .rename(columns=lambda x: 'payment_type_'+x)"
   ]
  },
  {
   "cell_type": "code",
   "execution_count": 139,
   "metadata": {
    "ExecuteTime": {
     "end_time": "2019-04-22T17:50:16.634416Z",
     "start_time": "2019-04-22T17:50:15.407542Z"
    },
    "collapsed": false
   },
   "outputs": [],
   "source": [
    "# take top 10 categories, concat the rest as 'others'\n",
    "top_categories = temp.product_category.apply(pd.Series).stack().value_counts()[:10].index.tolist()\n",
    "category_dummies = pd.get_dummies(temp.product_category.apply(pd.Series).stack()).sum(level=0)\n",
    "category_dummies['others'] = category_dummies.loc[:,~category_dummies.columns.isin(top_categories)].max(axis=1)\n",
    "category_dummies = category_dummies[top_categories + ['others']]"
   ]
  },
  {
   "cell_type": "code",
   "execution_count": 140,
   "metadata": {
    "ExecuteTime": {
     "end_time": "2019-04-22T17:50:25.894117Z",
     "start_time": "2019-04-22T17:50:25.884145Z"
    },
    "collapsed": false,
    "scrolled": true
   },
   "outputs": [],
   "source": [
    "temp =  temp.merge(payment_dummies, how='inner', left_index=True, right_index=True)\\\n",
    "            .merge(category_dummies, how='inner', left_index=True, right_index=True)\\\n",
    "            .drop(columns=['payment_type', 'product_category'])"
   ]
  },
  {
   "cell_type": "code",
   "execution_count": 141,
   "metadata": {
    "ExecuteTime": {
     "end_time": "2019-04-22T17:50:29.225708Z",
     "start_time": "2019-04-22T17:50:29.202772Z"
    },
    "collapsed": false,
    "scrolled": true
   },
   "outputs": [],
   "source": [
    "temp['last_order_timestamp'] = temp['last_order_timestamp'].dt.date\n",
    "temp['first_order_timestamp'] = temp['first_order_timestamp'].dt.date"
   ]
  },
  {
   "cell_type": "code",
   "execution_count": 143,
   "metadata": {
    "ExecuteTime": {
     "end_time": "2019-04-22T17:52:32.956121Z",
     "start_time": "2019-04-22T17:52:32.823467Z"
    },
    "collapsed": false
   },
   "outputs": [],
   "source": [
    "temp.to_csv('merchant_preprocessed.csv')"
   ]
  },
  {
   "cell_type": "code",
   "execution_count": 149,
   "metadata": {
    "ExecuteTime": {
     "end_time": "2019-04-22T18:44:39.121567Z",
     "start_time": "2019-04-22T18:44:38.736577Z"
    },
    "collapsed": false
   },
   "outputs": [
    {
     "data": {
      "image/png": "[encoded data removed]",
      "text/plain": [
       "<Figure size 432x288 with 2 Axes>"
      ]
     },
     "metadata": {},
     "output_type": "display_data"
    }
   ],
   "source": [
    "sns.heatmap(temp.corr());"
   ]
  },
  {
   "cell_type": "markdown",
   "metadata": {},
   "source": [
    "Read in predicted churn rates from R survival's Weibull AFT model"
   ]
  },
  {
   "cell_type": "code",
   "execution_count": 2,
   "metadata": {
    "ExecuteTime": {
     "end_time": "2019-04-22T23:56:02.028831Z",
     "start_time": "2019-04-22T23:56:01.910122Z"
    },
    "collapsed": true
   },
   "outputs": [],
   "source": [
    "churn = pd.read_csv('./predicted_churn_weeks.csv', index_col=0)"
   ]
  },
  {
   "cell_type": "code",
   "execution_count": 4,
   "metadata": {
    "ExecuteTime": {
     "end_time": "2019-04-22T23:56:08.482902Z",
     "start_time": "2019-04-22T23:56:08.475920Z"
    },
    "collapsed": false
   },
   "outputs": [
    {
     "name": "stdout",
     "output_type": "stream",
     "text": [
      "<class 'pandas.core.frame.DataFrame'>\n",
      "Index: 2950 entries, 0015a82c2db000af6aaaf3ae2ecb0532 to fffd5413c0700ac820c7069d66d98c89\n",
      "Data columns (total 3 columns):\n",
      "fitted         2950 non-null float64\n",
      "quantile_10    2950 non-null float64\n",
      "quantile_90    2950 non-null float64\n",
      "dtypes: float64(3)\n",
      "memory usage: 92.2+ KB\n"
     ]
    }
   ],
   "source": [
    "churn.info()"
   ]
  },
  {
   "cell_type": "markdown",
   "metadata": {},
   "source": [
    "## Expected revenue\n",
    "\n",
    "$$CLV=\\sum_{t=0}^T{\\frac{mr^t}{(1+d)^t}} - AC$$ i.e. CLV model 2\n",
    "\n",
    "**Assumptions:**\n",
    "* Annual discount rate of 20% (aggressive cost of capital)\n",
    "* Profit to platform is 10% of merchant's revenue\n",
    "* Use Weekly values"
   ]
  },
  {
   "cell_type": "code",
   "execution_count": 6,
   "metadata": {
    "ExecuteTime": {
     "end_time": "2019-04-23T02:39:20.592218Z",
     "start_time": "2019-04-23T02:39:20.369810Z"
    },
    "collapsed": false
   },
   "outputs": [],
   "source": [
    "orders.order_purchase_timestamp = pd.to_datetime(orders.order_purchase_timestamp)\n",
    "order_items = order_items.merge(orders[['order_id', 'order_purchase_timestamp']], how='left', on='order_id')"
   ]
  },
  {
   "cell_type": "code",
   "execution_count": 9,
   "metadata": {
    "ExecuteTime": {
     "end_time": "2019-04-23T02:41:35.669050Z",
     "start_time": "2019-04-23T02:41:34.636754Z"
    },
    "collapsed": false
   },
   "outputs": [],
   "source": [
    "temp = order_items.groupby('seller_id').agg({'price': lambda x: np.sum(np.log(x)),\n",
    "                                             'order_purchase_timestamp': lambda x: np.max(x) - np.min(x)})"
   ]
  },
  {
   "cell_type": "code",
   "execution_count": 10,
   "metadata": {
    "ExecuteTime": {
     "end_time": "2019-04-23T02:42:17.536064Z",
     "start_time": "2019-04-23T02:42:17.531044Z"
    },
    "collapsed": true
   },
   "outputs": [],
   "source": [
    "temp.columns = ['total_log_revenue', 'timespan']"
   ]
  },
  {
   "cell_type": "code",
   "execution_count": 25,
   "metadata": {
    "ExecuteTime": {
     "end_time": "2019-04-23T02:51:12.121509Z",
     "start_time": "2019-04-23T02:51:12.071602Z"
    },
    "collapsed": false
   },
   "outputs": [],
   "source": [
    "temp['timespan'] = temp.timespan.dt.days / 7 + 1\n",
    "temp['avg_weekly_revenue'] = temp.total_log_revenue / temp.timespan"
   ]
  },
  {
   "cell_type": "code",
   "execution_count": 36,
   "metadata": {
    "ExecuteTime": {
     "end_time": "2019-04-23T02:53:58.478596Z",
     "start_time": "2019-04-23T02:53:58.465630Z"
    },
    "collapsed": false
   },
   "outputs": [
    {
     "data": {
      "text/html": [
       "<div>\n",
       "<style scoped>\n",
       "    .dataframe tbody tr th:only-of-type {\n",
       "        vertical-align: middle;\n",
       "    }\n",
       "\n",
       "    .dataframe tbody tr th {\n",
       "        vertical-align: top;\n",
       "    }\n",
       "\n",
       "    .dataframe thead th {\n",
       "        text-align: right;\n",
       "    }\n",
       "</style>\n",
       "<table border=\"1\" class=\"dataframe\">\n",
       "  <thead>\n",
       "    <tr style=\"text-align: right;\">\n",
       "      <th></th>\n",
       "      <th>total_log_revenue</th>\n",
       "      <th>timespan</th>\n",
       "      <th>avg_weekly_revenue</th>\n",
       "    </tr>\n",
       "    <tr>\n",
       "      <th>seller_id</th>\n",
       "      <th></th>\n",
       "      <th></th>\n",
       "      <th></th>\n",
       "    </tr>\n",
       "  </thead>\n",
       "  <tbody>\n",
       "    <tr>\n",
       "      <th>0015a82c2db000af6aaaf3ae2ecb0532</th>\n",
       "      <td>20.390471</td>\n",
       "      <td>4.000000</td>\n",
       "      <td>5.097618</td>\n",
       "    </tr>\n",
       "    <tr>\n",
       "      <th>001cca7ae9ae17fb1caed9dfb1094831</th>\n",
       "      <td>1109.547759</td>\n",
       "      <td>75.714286</td>\n",
       "      <td>14.654404</td>\n",
       "    </tr>\n",
       "    <tr>\n",
       "      <th>001e6ad469a905060d959994f1b41e4f</th>\n",
       "      <td>5.521461</td>\n",
       "      <td>1.000000</td>\n",
       "      <td>5.521461</td>\n",
       "    </tr>\n",
       "    <tr>\n",
       "      <th>002100f778ceb8431b7a1020ff7ab48f</th>\n",
       "      <td>163.422841</td>\n",
       "      <td>31.000000</td>\n",
       "      <td>5.271705</td>\n",
       "    </tr>\n",
       "    <tr>\n",
       "      <th>003554e2dce176b5555353e4f3555ac8</th>\n",
       "      <td>4.787492</td>\n",
       "      <td>1.000000</td>\n",
       "      <td>4.787492</td>\n",
       "    </tr>\n",
       "  </tbody>\n",
       "</table>\n",
       "</div>"
      ],
      "text/plain": [
       "                                  total_log_revenue   timespan  \\\n",
       "seller_id                                                        \n",
       "0015a82c2db000af6aaaf3ae2ecb0532          20.390471   4.000000   \n",
       "001cca7ae9ae17fb1caed9dfb1094831        1109.547759  75.714286   \n",
       "001e6ad469a905060d959994f1b41e4f           5.521461   1.000000   \n",
       "002100f778ceb8431b7a1020ff7ab48f         163.422841  31.000000   \n",
       "003554e2dce176b5555353e4f3555ac8           4.787492   1.000000   \n",
       "\n",
       "                                  avg_weekly_revenue  \n",
       "seller_id                                             \n",
       "0015a82c2db000af6aaaf3ae2ecb0532            5.097618  \n",
       "001cca7ae9ae17fb1caed9dfb1094831           14.654404  \n",
       "001e6ad469a905060d959994f1b41e4f            5.521461  \n",
       "002100f778ceb8431b7a1020ff7ab48f            5.271705  \n",
       "003554e2dce176b5555353e4f3555ac8            4.787492  "
      ]
     },
     "execution_count": 36,
     "metadata": {},
     "output_type": "execute_result"
    }
   ],
   "source": [
    "temp.head()"
   ]
  },
  {
   "cell_type": "code",
   "execution_count": 42,
   "metadata": {
    "ExecuteTime": {
     "end_time": "2019-04-23T02:55:56.981698Z",
     "start_time": "2019-04-23T02:55:56.975716Z"
    },
    "collapsed": false
   },
   "outputs": [
    {
     "data": {
      "text/plain": [
       "(145, 3)"
      ]
     },
     "execution_count": 42,
     "metadata": {},
     "output_type": "execute_result"
    }
   ],
   "source": [
    "temp[~temp.index.isin(churn.index)].shape # 145 sellers dropped due to left-censorship"
   ]
  },
  {
   "cell_type": "code",
   "execution_count": 45,
   "metadata": {
    "ExecuteTime": {
     "end_time": "2019-04-23T02:58:41.132730Z",
     "start_time": "2019-04-23T02:58:41.113776Z"
    },
    "collapsed": false
   },
   "outputs": [
    {
     "data": {
      "text/html": [
       "<div>\n",
       "<style scoped>\n",
       "    .dataframe tbody tr th:only-of-type {\n",
       "        vertical-align: middle;\n",
       "    }\n",
       "\n",
       "    .dataframe tbody tr th {\n",
       "        vertical-align: top;\n",
       "    }\n",
       "\n",
       "    .dataframe thead th {\n",
       "        text-align: right;\n",
       "    }\n",
       "</style>\n",
       "<table border=\"1\" class=\"dataframe\">\n",
       "  <thead>\n",
       "    <tr style=\"text-align: right;\">\n",
       "      <th></th>\n",
       "      <th>total_log_revenue</th>\n",
       "      <th>timespan</th>\n",
       "      <th>avg_weekly_revenue</th>\n",
       "      <th>fitted</th>\n",
       "      <th>quantile_10</th>\n",
       "      <th>quantile_90</th>\n",
       "    </tr>\n",
       "    <tr>\n",
       "      <th>seller_id</th>\n",
       "      <th></th>\n",
       "      <th></th>\n",
       "      <th></th>\n",
       "      <th></th>\n",
       "      <th></th>\n",
       "      <th></th>\n",
       "    </tr>\n",
       "  </thead>\n",
       "  <tbody>\n",
       "    <tr>\n",
       "      <th>0015a82c2db000af6aaaf3ae2ecb0532</th>\n",
       "      <td>20.390471</td>\n",
       "      <td>4.000000</td>\n",
       "      <td>5.097618</td>\n",
       "      <td>16.426616</td>\n",
       "      <td>1.485884</td>\n",
       "      <td>40.023415</td>\n",
       "    </tr>\n",
       "    <tr>\n",
       "      <th>001cca7ae9ae17fb1caed9dfb1094831</th>\n",
       "      <td>1109.547759</td>\n",
       "      <td>75.714286</td>\n",
       "      <td>14.654404</td>\n",
       "      <td>578.037344</td>\n",
       "      <td>52.286867</td>\n",
       "      <td>1408.386729</td>\n",
       "    </tr>\n",
       "    <tr>\n",
       "      <th>001e6ad469a905060d959994f1b41e4f</th>\n",
       "      <td>5.521461</td>\n",
       "      <td>1.000000</td>\n",
       "      <td>5.521461</td>\n",
       "      <td>3.773009</td>\n",
       "      <td>0.341291</td>\n",
       "      <td>9.192928</td>\n",
       "    </tr>\n",
       "    <tr>\n",
       "      <th>002100f778ceb8431b7a1020ff7ab48f</th>\n",
       "      <td>163.422841</td>\n",
       "      <td>31.000000</td>\n",
       "      <td>5.271705</td>\n",
       "      <td>102.393612</td>\n",
       "      <td>9.262103</td>\n",
       "      <td>249.481813</td>\n",
       "    </tr>\n",
       "    <tr>\n",
       "      <th>003554e2dce176b5555353e4f3555ac8</th>\n",
       "      <td>4.787492</td>\n",
       "      <td>1.000000</td>\n",
       "      <td>4.787492</td>\n",
       "      <td>5.290580</td>\n",
       "      <td>0.478564</td>\n",
       "      <td>12.890486</td>\n",
       "    </tr>\n",
       "  </tbody>\n",
       "</table>\n",
       "</div>"
      ],
      "text/plain": [
       "                                  total_log_revenue   timespan  \\\n",
       "seller_id                                                        \n",
       "0015a82c2db000af6aaaf3ae2ecb0532          20.390471   4.000000   \n",
       "001cca7ae9ae17fb1caed9dfb1094831        1109.547759  75.714286   \n",
       "001e6ad469a905060d959994f1b41e4f           5.521461   1.000000   \n",
       "002100f778ceb8431b7a1020ff7ab48f         163.422841  31.000000   \n",
       "003554e2dce176b5555353e4f3555ac8           4.787492   1.000000   \n",
       "\n",
       "                                  avg_weekly_revenue      fitted  quantile_10  \\\n",
       "seller_id                                                                       \n",
       "0015a82c2db000af6aaaf3ae2ecb0532            5.097618   16.426616     1.485884   \n",
       "001cca7ae9ae17fb1caed9dfb1094831           14.654404  578.037344    52.286867   \n",
       "001e6ad469a905060d959994f1b41e4f            5.521461    3.773009     0.341291   \n",
       "002100f778ceb8431b7a1020ff7ab48f            5.271705  102.393612     9.262103   \n",
       "003554e2dce176b5555353e4f3555ac8            4.787492    5.290580     0.478564   \n",
       "\n",
       "                                  quantile_90  \n",
       "seller_id                                      \n",
       "0015a82c2db000af6aaaf3ae2ecb0532    40.023415  \n",
       "001cca7ae9ae17fb1caed9dfb1094831  1408.386729  \n",
       "001e6ad469a905060d959994f1b41e4f     9.192928  \n",
       "002100f778ceb8431b7a1020ff7ab48f   249.481813  \n",
       "003554e2dce176b5555353e4f3555ac8    12.890486  "
      ]
     },
     "execution_count": 45,
     "metadata": {},
     "output_type": "execute_result"
    }
   ],
   "source": [
    "clv = temp.merge(churn, how='inner', left_index=True, right_index=True)\n",
    "clv.head()"
   ]
  },
  {
   "cell_type": "code",
   "execution_count": 52,
   "metadata": {
    "ExecuteTime": {
     "end_time": "2019-04-23T03:08:38.440861Z",
     "start_time": "2019-04-23T03:08:38.436872Z"
    },
    "collapsed": false
   },
   "outputs": [],
   "source": [
    "# constants\n",
    "annual_disc = 0.2\n",
    "commission = 0.1"
   ]
  },
  {
   "cell_type": "code",
   "execution_count": 69,
   "metadata": {
    "ExecuteTime": {
     "end_time": "2019-04-23T03:23:35.753144Z",
     "start_time": "2019-04-23T03:23:35.749155Z"
    },
    "collapsed": true
   },
   "outputs": [],
   "source": [
    "wkly_disc = (1+annual_disc)**(1/52)"
   ]
  },
  {
   "cell_type": "code",
   "execution_count": 86,
   "metadata": {
    "ExecuteTime": {
     "end_time": "2019-04-23T03:34:00.706970Z",
     "start_time": "2019-04-23T03:34:00.344866Z"
    },
    "collapsed": false
   },
   "outputs": [],
   "source": [
    "clv['PV_factor'] = clv.fitted.apply(lambda x: sum((1/wkly_disc)**t for t in range(int(x)+1)))\n",
    "clv['CLV'] = clv.avg_weekly_revenue * commission * clv.PV_factor "
   ]
  },
  {
   "cell_type": "code",
   "execution_count": 97,
   "metadata": {
    "ExecuteTime": {
     "end_time": "2019-04-23T03:38:46.018919Z",
     "start_time": "2019-04-23T03:38:45.771580Z"
    },
    "collapsed": false
   },
   "outputs": [
    {
     "data": {
      "image/png": "[encoded data removed]",
      "text/plain": [
       "<Figure size 432x288 with 1 Axes>"
      ]
     },
     "metadata": {},
     "output_type": "display_data"
    }
   ],
   "source": [
    "clv.CLV.apply(np.log).hist(bins=50); # log distribution is preserved"
   ]
  },
  {
   "cell_type": "code",
   "execution_count": 99,
   "metadata": {
    "ExecuteTime": {
     "end_time": "2019-04-23T03:39:44.196341Z",
     "start_time": "2019-04-23T03:39:44.038763Z"
    },
    "collapsed": false,
    "scrolled": true
   },
   "outputs": [
    {
     "data": {
      "image/png": "[encoded data removed]",
      "text/plain": [
       "<Figure size 432x288 with 1 Axes>"
      ]
     },
     "metadata": {},
     "output_type": "display_data"
    }
   ],
   "source": [
    "# cumulative value plot\n",
    "clv.sort_values(by='CLV', ascending=False).CLV.cumsum().plot.line();"
   ]
  }
 ],
 "metadata": {
  "anaconda-cloud": {},
  "kernelspec": {
   "display_name": "Python [conda env:python35]",
   "language": "python",
   "name": "conda-env-python35-py"
  },
  "language_info": {
   "codemirror_mode": {
    "name": "ipython",
    "version": 3
   },
   "file_extension": ".py",
   "mimetype": "text/x-python",
   "name": "python",
   "nbconvert_exporter": "python",
   "pygments_lexer": "ipython3",
   "version": "3.5.6"
  },
  "notify_time": "5",
  "toc": {
   "base_numbering": 1,
   "nav_menu": {},
   "number_sections": true,
   "sideBar": true,
   "skip_h1_title": false,
   "title_cell": "Table of Contents",
   "title_sidebar": "Contents",
   "toc_cell": false,
   "toc_position": {
    "height": "calc(100% - 180px)",
    "left": "10px",
    "top": "150px",
    "width": "218px"
   },
   "toc_section_display": true,
   "toc_window_display": true
  },
  "varInspector": {
   "cols": {
    "lenName": 16,
    "lenType": 16,
    "lenVar": 40
   },
   "kernels_config": {
    "python": {
     "delete_cmd_postfix": "",
     "delete_cmd_prefix": "del ",
     "library": "var_list.py",
     "varRefreshCmd": "print(var_dic_list())"
    },
    "r": {
     "delete_cmd_postfix": ") ",
     "delete_cmd_prefix": "rm(",
     "library": "var_list.r",
     "varRefreshCmd": "cat(var_dic_list()) "
    }
   },
   "types_to_exclude": [
    "module",
    "function",
    "builtin_function_or_method",
    "instance",
    "_Feature"
   ],
   "window_display": false
  }
 },
 "nbformat": 4,
 "nbformat_minor": 1
}
